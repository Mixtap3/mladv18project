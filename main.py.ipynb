{
 "cells": [
  {
   "cell_type": "code",
   "execution_count": 129,
   "metadata": {},
   "outputs": [],
   "source": [
    "from sklearn.metrics.pairwise import rbf_kernel\n",
    "from sklearn.datasets.samples_generator import make_blobs\n",
    "import numpy as np\n",
    "import h5py"
   ]
  },
  {
   "cell_type": "code",
   "execution_count": 130,
   "metadata": {},
   "outputs": [],
   "source": [
    "## Generate data\n",
    "X, y = make_blobs(n_samples=100, centers=3, n_features=2)"
   ]
  },
  {
   "cell_type": "code",
   "execution_count": 127,
   "metadata": {},
   "outputs": [],
   "source": [
    "with h5py.File('data/usps.h5', 'r') as hf:\n",
    "        train = hf.get('train')\n",
    "        X_tr = train.get('data')[:]\n",
    "        y_tr = train.get('target')[:]\n",
    "        test = hf.get('test')\n",
    "        X_te = test.get('data')[:]\n",
    "        y_te = test.get('target')[:]"
   ]
  },
  {
   "cell_type": "code",
   "execution_count": 148,
   "metadata": {},
   "outputs": [],
   "source": [
    "## Compute RBF matrix K\n",
    "K = rbf_kernel(X_tr)"
   ]
  },
  {
   "cell_type": "code",
   "execution_count": 132,
   "metadata": {},
   "outputs": [],
   "source": [
    "def transfer_func(x, kernel='linear', cut=None, t=None):\n",
    "    if kernel == 'linear':\n",
    "        return x\n",
    "    if kernel == 'step':\n",
    "        if x >= cut:\n",
    "            return 1\n",
    "        else:\n",
    "            return 0\n",
    "    if kernel == 'lin-step':\n",
    "        if x >= cut:\n",
    "            return x\n",
    "        else:\n",
    "            return 0\n",
    "    if kernel == 'poly':\n",
    "        return x**t"
   ]
  },
  {
   "cell_type": "code",
   "execution_count": 133,
   "metadata": {},
   "outputs": [],
   "source": [
    "## 1. Compute D, the diagonal matrix whose elements are the sum of the rows of K\n",
    "D = np.zeros(np.shape(K))\n",
    "count = 1\n",
    "for i in range(np.shape(K)[0]):\n",
    "    D[i, i] = np.sum(K[i, :])"
   ]
  },
  {
   "cell_type": "code",
   "execution_count": 143,
   "metadata": {},
   "outputs": [],
   "source": [
    "## 2. Compute L\n",
    "L = np.linalg.inv(np.sqrt(D)) @ K @ np.linalg.inv(np.sqrt(D))\n",
    "eigenvals, eigenvects = np.linalg.eig(L)\n",
    "Lambda = np.diag(eigenvals)"
   ]
  },
  {
   "cell_type": "code",
   "execution_count": 144,
   "metadata": {},
   "outputs": [
    {
     "name": "stderr",
     "output_type": "stream",
     "text": [
      "/Library/Frameworks/Python.framework/Versions/3.7/lib/python3.7/site-packages/ipykernel_launcher.py:5: ComplexWarning: Casting complex values to real discards the imaginary part\n",
      "  \"\"\"\n"
     ]
    },
    {
     "ename": "KeyboardInterrupt",
     "evalue": "",
     "output_type": "error",
     "traceback": [
      "\u001b[0;31m---------------------------------------------------------------------------\u001b[0m",
      "\u001b[0;31mKeyboardInterrupt\u001b[0m                         Traceback (most recent call last)",
      "\u001b[0;32m<ipython-input-144-3eaf5eb51030>\u001b[0m in \u001b[0;36m<module>\u001b[0;34m()\u001b[0m\n\u001b[1;32m      6\u001b[0m \u001b[0;34m\u001b[0m\u001b[0m\n\u001b[1;32m      7\u001b[0m \u001b[0mlambda_hat\u001b[0m \u001b[0;34m=\u001b[0m \u001b[0mnp\u001b[0m\u001b[0;34m.\u001b[0m\u001b[0mdiag\u001b[0m\u001b[0;34m(\u001b[0m\u001b[0mnew_eigenvals\u001b[0m\u001b[0;34m)\u001b[0m\u001b[0;34m\u001b[0m\u001b[0m\n\u001b[0;32m----> 8\u001b[0;31m \u001b[0mL_hat\u001b[0m \u001b[0;34m=\u001b[0m \u001b[0meigenvects\u001b[0m \u001b[0;34m@\u001b[0m \u001b[0mlambda_hat\u001b[0m \u001b[0;34m@\u001b[0m \u001b[0meigenvects\u001b[0m\u001b[0;34m.\u001b[0m\u001b[0mT\u001b[0m\u001b[0;34m\u001b[0m\u001b[0m\n\u001b[0m",
      "\u001b[0;31mKeyboardInterrupt\u001b[0m: "
     ]
    }
   ],
   "source": [
    "## 3. Given transfer function, construct L_hat\n",
    "new_eigenvals = np.zeros(np.shape(eigenvals)) # lamdba_hat_i\n",
    "\n",
    "for i in range(np.shape(eigenvals)[0]):\n",
    "    new_eigenvals[i] = transfer_func(eigenvals[i], kernel='linear', t=5)\n",
    "    \n",
    "lambda_hat = np.diag(new_eigenvals)\n",
    "L_hat = eigenvects @ lambda_hat @ eigenvects.T"
   ]
  },
  {
   "cell_type": "code",
   "execution_count": null,
   "metadata": {},
   "outputs": [],
   "source": [
    "## 4. Compute K_hat\n",
    "D_hat = np.linalg.inv(L_hat)\n",
    "K_hat = np.sqrt(D_hat) @ L_hat @ np.sqrt(D_hat)\n",
    "K_hat"
   ]
  },
  {
   "cell_type": "code",
   "execution_count": null,
   "metadata": {},
   "outputs": [],
   "source": []
  }
 ],
 "metadata": {
  "kernelspec": {
   "display_name": "Python 3",
   "language": "python",
   "name": "python3"
  },
  "language_info": {
   "codemirror_mode": {
    "name": "ipython",
    "version": 3
   },
   "file_extension": ".py",
   "mimetype": "text/x-python",
   "name": "python",
   "nbconvert_exporter": "python",
   "pygments_lexer": "ipython3",
   "version": "3.7.0"
  }
 },
 "nbformat": 4,
 "nbformat_minor": 2
}
